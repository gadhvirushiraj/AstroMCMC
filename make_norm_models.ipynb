{
 "cells": [
  {
   "cell_type": "code",
   "execution_count": 6,
   "metadata": {},
   "outputs": [],
   "source": [
    "import numpy as np\n",
    "import pandas as pd\n",
    "import os\n",
    "from norm_algo import norm_df\n",
    "from scipy.ndimage import gaussian_filter1d"
   ]
  },
  {
   "cell_type": "code",
   "execution_count": 7,
   "metadata": {},
   "outputs": [],
   "source": [
    "dir = os.getcwd() + '/M_subdwarfs_models/'\n",
    "files = os.listdir(dir)"
   ]
  },
  {
   "cell_type": "code",
   "execution_count": 8,
   "metadata": {},
   "outputs": [
    {
     "data": {
      "text/plain": [
       "'lte041-5.00-1.5a'"
      ]
     },
     "execution_count": 8,
     "metadata": {},
     "output_type": "execute_result"
    }
   ],
   "source": [
    "files[0].split('+')[0]"
   ]
  },
  {
   "cell_type": "code",
   "execution_count": 9,
   "metadata": {},
   "outputs": [],
   "source": [
    "dir2 = os.getcwd() + '/norm_models/'\n",
    "sigma = 1.34"
   ]
  },
  {
   "cell_type": "code",
   "execution_count": 10,
   "metadata": {},
   "outputs": [
    {
     "name": "stdout",
     "output_type": "stream",
     "text": [
      "lte041-5.00-1.5a.pkl saved\n",
      "lte038-5.00-2.0a.pkl saved\n",
      "lte038-4.50-1.0a.pkl saved\n",
      "lte041-4.50-2.5a.pkl saved\n",
      "lte039-4.00-0.0a.pkl saved\n",
      "lte040-5.50-0.5a.pkl saved\n",
      "lte042-5.00-0.0a.pkl saved\n",
      "lte039-5.50-0.0a.pkl saved\n",
      "lte042-4.50-0.0a.pkl saved\n",
      "lte040-4.00-0.5a.pkl saved\n",
      "lte041-4.50-1.5a.pkl saved\n",
      "lte038-4.50-2.0a.pkl saved\n",
      "lte038-5.00-1.0a.pkl saved\n",
      "lte041-5.00-2.5a.pkl saved\n",
      "lte040-5.00-1.5a.pkl saved\n",
      "lte042-5.50-1.0a.pkl saved\n",
      "lte039-5.00-2.0a.pkl saved\n",
      "lte039-4.50-1.0a.pkl saved\n",
      "lte042-4.00-2.0a.pkl saved\n",
      "lte040-4.50-2.5a.pkl saved\n",
      "lte038-4.00-0.0a.pkl saved\n",
      "lte041-5.50-0.5a.pkl saved\n",
      "lte038-5.50-0.0a.pkl saved\n",
      "lte039-4.50-0.5a.pkl saved\n",
      "lte041-4.00-0.5a.pkl saved\n",
      "lte042-4.00-1.0a.pkl saved\n",
      "lte040-4.50-1.5a.pkl saved\n",
      "lte039-4.50-2.0a.pkl saved\n",
      "lte039-5.00-1.0a.pkl saved\n",
      "lte040-5.00-2.5a.pkl saved\n",
      "lte042-5.50-2.0a.pkl saved\n",
      "lte040-5.00-0.0a.pkl saved\n",
      "lte042-5.50-0.5a.pkl saved\n",
      "lte039-4.50-0.5a.pkl saved\n",
      "lte038-4.00-1.5a.pkl saved\n",
      "lte041-4.00-2.0a.pkl saved\n",
      "lte041-5.50-1.0a.pkl saved\n",
      "lte038-5.50-2.5a.pkl saved\n",
      "lte038-5.50-1.5a.pkl saved\n",
      "lte041-5.50-2.0a.pkl saved\n",
      "lte041-4.00-1.0a.pkl saved\n",
      "lte038-4.00-2.5a.pkl saved\n",
      "lte042-4.00-0.5a.pkl saved\n",
      "lte040-4.50-0.0a.pkl saved\n",
      "lte039-5.00-0.5a.pkl saved\n",
      "lte041-5.00-0.0a.pkl saved\n",
      "lte038-4.50-0.5a.pkl saved\n",
      "lte039-4.00-1.5a.pkl saved\n",
      "lte042-4.50-2.5a.pkl saved\n",
      "lte040-4.00-2.0a.pkl saved\n",
      "lte040-5.50-1.0a.pkl saved\n",
      "lte042-5.00-1.5a.pkl saved\n",
      "lte039-5.50-2.5a.pkl saved\n",
      "lte039-5.50-1.5a.pkl saved\n",
      "lte040-5.50-2.0a.pkl saved\n",
      "lte042-5.00-2.5a.pkl saved\n",
      "lte042-4.50-1.5a.pkl saved\n",
      "lte040-4.00-1.0a.pkl saved\n",
      "lte039-4.00-2.5a.pkl saved\n",
      "lte041-4.50-0.0a.pkl saved\n",
      "lte038-5.00-0.5a.pkl saved\n",
      "lte041-5.00-0.5a.pkl saved\n",
      "lte039-5.50-0.5a.pkl saved\n",
      "lte038-4.50-0.0a.pkl saved\n",
      "lte042-4.50-2.0a.pkl saved\n",
      "lte040-4.00-2.5a.pkl saved\n",
      "lte039-4.00-1.0a.pkl saved\n",
      "lte039-5.50-2.0a.pkl saved\n",
      "lte040-5.50-1.5a.pkl saved\n",
      "lte042-5.00-1.0a.pkl saved\n",
      "lte040-5.50-2.5a.pkl saved\n",
      "lte042-5.00-2.0a.pkl saved\n",
      "lte039-5.50-1.0a.pkl saved\n",
      "lte039-4.00-2.0a.pkl saved\n",
      "lte042-4.50-1.0a.pkl saved\n",
      "lte040-4.00-1.5a.pkl saved\n",
      "lte041-4.50-0.5a.pkl saved\n",
      "lte038-5.00-0.0a.pkl saved\n",
      "lte040-5.00-0.5a.pkl saved\n",
      "lte042-5.50-0.0a.pkl saved\n",
      "lte039-4.50-0.0a.pkl saved\n",
      "lte041-4.00-2.5a.pkl saved\n",
      "lte038-4.00-1.0a.pkl saved\n",
      "lte038-5.50-2.0a.pkl saved\n",
      "lte041-5.50-1.5a.pkl saved\n",
      "lte041-5.50-2.5a.pkl saved\n",
      "lte038-5.50-1.0a.pkl saved\n",
      "lte038-4.00-2.0a.pkl saved\n",
      "lte041-4.00-1.5a.pkl saved\n",
      "lte042-4.00-0.0a.pkl saved\n",
      "lte040-4.50-0.5a.pkl saved\n",
      "lte039-5.00-0.0a.pkl saved\n",
      "lte039-5.00-2.5a.pkl saved\n",
      "lte040-5.00-1.0a.pkl saved\n",
      "lte042-5.50-1.5a.pkl saved\n",
      "lte042-4.00-2.5a.pkl saved\n",
      "lte040-4.50-2.0a.pkl saved\n",
      "lte039-4.50-1.5a.pkl saved\n",
      "lte038-4.00-0.5a.pkl saved\n",
      "lte041-5.50-0.0a.pkl saved\n",
      "lte038-5.50-0.5a.pkl saved\n",
      "lte041-4.00-0.0a.pkl saved\n",
      "lte039-4.50-2.5a.pkl saved\n",
      "lte042-4.00-1.5a.pkl saved\n",
      "lte040-4.50-1.0a.pkl saved\n",
      "lte040-5.00-2.0a.pkl saved\n",
      "lte042-5.50-2.5a.pkl saved\n",
      "lte039-5.00-1.5a.pkl saved\n",
      "lte038-5.00-2.5a.pkl saved\n",
      "lte041-5.00-1.0a.pkl saved\n",
      "lte041-4.50-2.0a.pkl saved\n",
      "lte038-4.50-1.5a.pkl saved\n",
      "lte039-4.00-0.5a.pkl saved\n",
      "lte040-5.50-0.0a.pkl saved\n",
      "lte042-5.00-0.5a.pkl saved\n",
      "lte039-5.50-0.5a.pkl saved\n",
      "lte042-4.50-0.5a.pkl saved\n",
      "lte040-4.00-0.0a.pkl saved\n",
      "lte038-4.50-2.5a.pkl saved\n",
      "lte041-4.50-1.0a.pkl saved\n",
      "lte041-5.00-2.0a.pkl saved\n",
      "lte038-5.00-1.5a.pkl saved\n"
     ]
    }
   ],
   "source": [
    "for file in files:\n",
    "\n",
    "    df_model = pd.read_table(dir + file, delim_whitespace=True, header=None)\n",
    "    df_model = df_model.iloc[:,[0,1]]\n",
    "    df_model.columns = ['wave', 'flux']\n",
    "\n",
    "    # replace D in flux column with E\n",
    "    df_model['flux'] = df_model['flux'].astype(str).str.replace('D', 'E').astype(float)\n",
    "    df_model['wave'] = df_model['wave'].astype(str).str.replace('D', 'E').astype(float)\n",
    "\n",
    "    # remove duplicate wavelengths\n",
    "    df_model = df_model.drop_duplicates(subset='wave', keep='first')\n",
    "\n",
    "    # normalization\n",
    "    df_model = norm_df(df_model) \n",
    "    \n",
    "    # guassian smoothing\n",
    "    df_model['flux'] = gaussian_filter1d(df_model['flux'], sigma)\n",
    "\n",
    "    # save the pickle file\n",
    "    df_model.to_pickle( dir2 + file.split('+')[0] + '.pkl')\n",
    "\n",
    "    print(file.split('+')[0] + '.pkl saved')"
   ]
  }
 ],
 "metadata": {
  "kernelspec": {
   "display_name": "Python 3",
   "language": "python",
   "name": "python3"
  },
  "language_info": {
   "codemirror_mode": {
    "name": "ipython",
    "version": 3
   },
   "file_extension": ".py",
   "mimetype": "text/x-python",
   "name": "python",
   "nbconvert_exporter": "python",
   "pygments_lexer": "ipython3",
   "version": "3.11.3"
  },
  "orig_nbformat": 4
 },
 "nbformat": 4,
 "nbformat_minor": 2
}
